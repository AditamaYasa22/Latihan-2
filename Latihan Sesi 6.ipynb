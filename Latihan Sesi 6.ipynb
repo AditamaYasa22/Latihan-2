{
 "cells": [
  {
   "cell_type": "code",
   "execution_count": 7,
   "id": "70156dc0",
   "metadata": {},
   "outputs": [
    {
     "name": "stdout",
     "output_type": "stream",
     "text": [
      "=== Program Nilai ===\n",
      "masukkan nilai: 90\n",
      "Selamat Anda Lulus!\n",
      "Tetap Semangat, Tingkatkan Nilai Kedepannya\n"
     ]
    }
   ],
   "source": [
    "print(\"=== Program Nilai ===\")\n",
    "nilai = int(input(\"masukkan nilai: \"))\n",
    "\n",
    "if nilai >= 80:\n",
    "    print(\"Selamat Anda Lulus!\")\n",
    "    \n",
    "print(\"Tetap Semangat, Tingkatkan Nilai Kedepannya\")"
   ]
  },
  {
   "cell_type": "code",
   "execution_count": 2,
   "id": "421fd14c",
   "metadata": {},
   "outputs": [
    {
     "name": "stdout",
     "output_type": "stream",
     "text": [
      "a\n"
     ]
    }
   ],
   "source": [
    "a = 12\n",
    "b = 10\n",
    "\n",
    "if a > b:\n",
    "    print(\"a\")"
   ]
  },
  {
   "cell_type": "code",
   "execution_count": 3,
   "id": "37c3d37e",
   "metadata": {},
   "outputs": [
    {
     "name": "stdout",
     "output_type": "stream",
     "text": [
      "Masukkan nilai: 8\n",
      "Maaf, anda tidak lulus, Nilai Anda:  8\n"
     ]
    }
   ],
   "source": [
    "nilai = int(input('Masukkan nilai: '))\n",
    "\n",
    "if nilai >= 10:\n",
    "    print(\"Nilai Anda: \", nilai)\n",
    "\n",
    "else:\n",
    "    print('Maaf, anda tidak lulus, Nilai Anda: ', nilai)"
   ]
  },
  {
   "cell_type": "code",
   "execution_count": 11,
   "id": "abe83bde",
   "metadata": {},
   "outputs": [
    {
     "name": "stdout",
     "output_type": "stream",
     "text": [
      "=== Login ===\n",
      "masukkan password: Besok Libur\n",
      "Selamat Datang di Aplikasi\n",
      "Terimakasih Telah Mempercayakan pada Aplikasi Kami\n"
     ]
    }
   ],
   "source": [
    "print(\"=== Login ===\")\n",
    "password = input('masukkan password: ')\n",
    "if password == \"Besok Libur\":\n",
    "    print(\"Selamat Datang di Aplikasi\")\n",
    "else :\n",
    "    print(\"Password Salah, Coba Lagi!\")\n",
    "    \n",
    "print(\"Terimakasih Telah Mempercayakan pada Aplikasi Kami\")"
   ]
  },
  {
   "cell_type": "code",
   "execution_count": 16,
   "id": "a9c74a11",
   "metadata": {},
   "outputs": [
    {
     "name": "stdout",
     "output_type": "stream",
     "text": [
      "Menetukan Bilangan Ganjil Genap\n",
      "masukkan nilai999\n",
      "999 = ganjil\n"
     ]
    }
   ],
   "source": [
    "print(\"Menetukan Bilangan Ganjil Genap\")\n",
    "nilai = int(input(\"masukkan nilai\"))\n",
    "\n",
    "if nilai % 2 == 0:\n",
    "    print(f'{nilai} = genap')\n",
    "else:\n",
    "    print(f'{nilai} = ganjil')"
   ]
  },
  {
   "cell_type": "code",
   "execution_count": 23,
   "id": "5631d7e0",
   "metadata": {},
   "outputs": [
    {
     "name": "stdout",
     "output_type": "stream",
     "text": [
      "masukkan nama Hatsuna Miku\n",
      "masukkan jenis_kelamin (L/P): P\n",
      "Hallo Sis, Hatsuna Miku\n"
     ]
    }
   ],
   "source": [
    "kalimat = input('masukkan nama ')\n",
    "jenis_kelamin = input('masukkan jenis_kelamin (L/P): ') \n",
    "if jenis_kelamin == 'L':\n",
    "    print(f'Hallo Bro, {kalimat}')\n",
    "elif jenis_kelamin == 'P':\n",
    "    print(f'Hallo Sis, {kalimat}')"
   ]
  },
  {
   "cell_type": "code",
   "execution_count": 30,
   "id": "326d3738",
   "metadata": {},
   "outputs": [
    {
     "name": "stdout",
     "output_type": "stream",
     "text": [
      "===== Program Grade Nilai =====\n",
      "Inputkan nilai akhir: 80\n",
      "Grade Anda:  B+\n"
     ]
    }
   ],
   "source": [
    "print(\"===== Program Grade Nilai =====\")\n",
    "nilai = int(input(\"Inputkan nilai akhir: \"))\n",
    "if nilai >= 90:\n",
    "  grade = \"A\"\n",
    "elif nilai >= 80:\n",
    "  grade = \"B+\"\n",
    "elif nilai >= 70:\n",
    "  grade = \"B\"\n",
    "elif nilai >= 60:\n",
    "  grade = \"C+\"\n",
    "elif nilai >= 50:\n",
    "  grade = \"C\"\n",
    "elif nilai >= 40:\n",
    "  grade = \"D\"\n",
    "elif nilai >= 30:\n",
    "  grade = \"E\"\n",
    "else:\n",
    "  grade = \"F\"\n",
    "print (\"Grade Anda: \", grade)"
   ]
  },
  {
   "cell_type": "code",
   "execution_count": 40,
   "id": "9a1afa7a",
   "metadata": {},
   "outputs": [
    {
     "name": "stdout",
     "output_type": "stream",
     "text": [
      "Masukkan Nama Aditama Yasa\n",
      "Inputkan Tahun Kelahiran: 2004\n",
      "Aditama Yasa,berdasarkan tahun lahir anda tergolong Generasi Z\n"
     ]
    }
   ],
   "source": [
    "nama = input('Masukkan Nama ')\n",
    "tahun_kelahiran = int(input(\"Inputkan Tahun Kelahiran: \"))\n",
    "if (tahun_kelahiran >= 1994 and tahun_kelahiran < 1964):\n",
    "    golongan = \"Baby boomer\"\n",
    "elif (tahun_kelahiran >= 1965 and tahun_kelahiran < 1979):\n",
    "    golongan = \"Generasi X\"\n",
    "elif (tahun_kelahiran >= 1980 and tahun_kelahiran < 1994):\n",
    "    golongan = \"Generasi Y\"\n",
    "elif (tahun_kelahiran >= 1995):\n",
    "    golongan = \"Generasi Z\"\n",
    "print (f'{nama},berdasarkan tahun lahir anda tergolong {golongan}')"
   ]
  },
  {
   "cell_type": "code",
   "execution_count": 13,
   "id": "e6a3c30e",
   "metadata": {},
   "outputs": [
    {
     "name": "stdout",
     "output_type": "stream",
     "text": [
      "=== Nilai Kelulusan ===\n",
      "Inputkan skor: 0\n",
      "Skor Anda: 0 nilai: E predikat: Tidak LULUS\n"
     ]
    }
   ],
   "source": [
    "print(\"=== Nilai Kelulusan ===\")\n",
    "skor = int(input('Inputkan skor: '))\n",
    "if (skor >= 90 and skor < 100):\n",
    "    nilai = 'A'\n",
    "    predikat = 'Dengan Pujian'\n",
    "elif (skor >= 80 and skor < 89):\n",
    "    nilai = 'B'\n",
    "    predikat = 'Sangat Memuaskan'\n",
    "elif (skor >= 70 and skor < 79):\n",
    "    nilai = 'C'\n",
    "    predikat = 'Memuaskan'\n",
    "elif (skor >= 60 and skor < 69):\n",
    "    nilai = 'D'\n",
    "    predikat = 'Tidak Memuaskan'\n",
    "elif (skor >= 0 and skor < 59):\n",
    "    nilai = 'E'\n",
    "    predikat = 'Tidak LULUS'\n",
    "    \n",
    "print('Skor Anda:', skor, 'nilai:', nilai, 'predikat:', predikat)"
   ]
  },
  {
   "cell_type": "code",
   "execution_count": 9,
   "id": "0822be84",
   "metadata": {},
   "outputs": [
    {
     "ename": "SyntaxError",
     "evalue": "invalid non-printable character U+00A0 (3972405780.py, line 2)",
     "output_type": "error",
     "traceback": [
      "\u001b[1;36m  Input \u001b[1;32mIn [9]\u001b[1;36m\u001b[0m\n\u001b[1;33m    if (tahun >=100 and tahun <=90):\u001b[0m\n\u001b[1;37m             ^\u001b[0m\n\u001b[1;31mSyntaxError\u001b[0m\u001b[1;31m:\u001b[0m invalid non-printable character U+00A0\n"
     ]
    }
   ],
   "source": [
    "tahun = int(input(\"skor anda: \"))\n",
    "if (tahun >=100 and tahun <=90):\n",
    "    grade = 'A'\n",
    "    predikat = 'memuaskan'\n",
    "elif (tahun >=80 and tahun <=89):\n",
    "    grade = 'B'\n",
    "    predikat = 'sangat memuaskan'\n",
    "elif (tahun >=70 and tahun <=79):\n",
    "    grade = 'C' \n",
    "    predikat = 'memuaskan'\n",
    "elif (tahun >=60 and tahun <=69):\n",
    "    grade = 'D' \n",
    "    predikat = 'tidak memuaskan'\n",
    "elif (tahun >=0 and tahun <=59):\n",
    "    grade = 'E'\n",
    "    predikat = 'tidak lulus'\n",
    "else :\n",
    "    print('masukan skor anda',tahun)\n",
    "    print(\"grade anda: \",grade)\n",
    "    print(\"predikat anda: \",predikat"
   ]
  }
 ],
 "metadata": {
  "kernelspec": {
   "display_name": "Python 3 (ipykernel)",
   "language": "python",
   "name": "python3"
  },
  "language_info": {
   "codemirror_mode": {
    "name": "ipython",
    "version": 3
   },
   "file_extension": ".py",
   "mimetype": "text/x-python",
   "name": "python",
   "nbconvert_exporter": "python",
   "pygments_lexer": "ipython3",
   "version": "3.9.12"
  }
 },
 "nbformat": 4,
 "nbformat_minor": 5
}
