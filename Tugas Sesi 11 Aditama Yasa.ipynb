{
 "cells": [
  {
   "cell_type": "code",
   "execution_count": 2,
   "id": "c713db17",
   "metadata": {},
   "outputs": [],
   "source": [
    "def BMI():\n",
    "    tinggi = float(input(\"masukkan tinggi badan anda: \"))\n",
    "    berat = float(input(\"masukkan berat badan anda: \"))\n",
    "    \n",
    "    bmi = berat/(tinggi/100)**2\n",
    "    if bmi >= 16.0 and bmi <= 18.5:\n",
    "        return \"kurus\", bmi\n",
    "    if bmi >= 18.5 and bmi <= 25.0:\n",
    "        return \"normal\", bmi\n",
    "    if bmi >= 25.0 and bmi <= 40.0:\n",
    "        return \"gemuk\", bmi\n",
    "    if bmi >= 40.0 and bmi <= 60.0:\n",
    "        return \"obesitas\", bmi\n",
    "    \n",
    "    kuotes, bmi = BMI()\n",
    "    print(\"BMI kamu adalah: {} dan kamu sekarang: {}\".format(bmi,kuotes))"
   ]
  },
  {
   "cell_type": "code",
   "execution_count": 4,
   "id": "7e61c71d",
   "metadata": {},
   "outputs": [
    {
     "name": "stdout",
     "output_type": "stream",
     "text": [
      "masukkan tinggi badan anda: 173\n",
      "masukkan berat badan anda: 55\n"
     ]
    },
    {
     "data": {
      "text/plain": [
       "('kurus', 18.376825152861773)"
      ]
     },
     "execution_count": 4,
     "metadata": {},
     "output_type": "execute_result"
    }
   ],
   "source": [
    "BMI()"
   ]
  }
 ],
 "metadata": {
  "kernelspec": {
   "display_name": "Python 3 (ipykernel)",
   "language": "python",
   "name": "python3"
  },
  "language_info": {
   "codemirror_mode": {
    "name": "ipython",
    "version": 3
   },
   "file_extension": ".py",
   "mimetype": "text/x-python",
   "name": "python",
   "nbconvert_exporter": "python",
   "pygments_lexer": "ipython3",
   "version": "3.9.12"
  }
 },
 "nbformat": 4,
 "nbformat_minor": 5
}
