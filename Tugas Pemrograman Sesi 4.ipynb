{
 "cells": [
  {
   "cell_type": "code",
   "execution_count": 10,
   "id": "3f576cce",
   "metadata": {},
   "outputs": [
    {
     "name": "stdout",
     "output_type": "stream",
     "text": [
      "X = 16 = 00010000\n",
      "Y = 32 = 00100000 \n",
      "\n",
      "[and]\n",
      "X & Y = 0\n",
      "00010000 ^ 00100000 = 00000000 \n",
      "\n",
      "[or]\n",
      "X | Y = 48\n",
      "00010000 | 00100000 = 00110000 \n",
      "\n",
      "[not]\n",
      "~X ~Y = -17 -33\n",
      "~00010000 ~00100000 = -0010001 -0100001 \n",
      "\n"
     ]
    }
   ],
   "source": [
    "X = 16\n",
    "Y = 32\n",
    "\n",
    "print('X =', X, '=', format(X, '08b'))\n",
    "print('Y =', Y, '=', format(Y, '08b'), '\\n')\n",
    "\n",
    "print('[and]')\n",
    "print('X & Y =', X & Y)\n",
    "print(format(X, '08b'), '^', format(Y, '08b'), '=', format(X & Y, '08b'), '\\n')\n",
    "\n",
    "print('[or]')\n",
    "print('X | Y =', X | Y)\n",
    "print(format(X, '08b'), '|', format(Y, '08b'), '=', format(X | Y, '08b'), '\\n')\n",
    "\n",
    "print('[not]')\n",
    "print('~X ~Y =', ~X, ~Y)\n",
    "print( '~' + format(X, '08b'), '~' + format(Y, '08b'), '=', format(~X, '08b'), format(~Y, '08b'), '\\n')"
   ]
  }
 ],
 "metadata": {
  "kernelspec": {
   "display_name": "Python 3 (ipykernel)",
   "language": "python",
   "name": "python3"
  },
  "language_info": {
   "codemirror_mode": {
    "name": "ipython",
    "version": 3
   },
   "file_extension": ".py",
   "mimetype": "text/x-python",
   "name": "python",
   "nbconvert_exporter": "python",
   "pygments_lexer": "ipython3",
   "version": "3.9.12"
  }
 },
 "nbformat": 4,
 "nbformat_minor": 5
}
