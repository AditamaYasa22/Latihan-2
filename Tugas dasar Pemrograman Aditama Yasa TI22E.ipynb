{
 "cells": [
  {
   "cell_type": "code",
   "execution_count": 12,
   "id": "47986571",
   "metadata": {},
   "outputs": [
    {
     "name": "stdout",
     "output_type": "stream",
     "text": [
      "Aditama Yasa (TI22E) , Teknik Informatika , quote: Jangan pernah menyerah, lakukan yang terbaik\n",
      "\n",
      "Tipe dari nama: <class 'str'>\n",
      "Tipe dari kelas: <class 'str'>\n",
      "Tipe dari jurusan: <class 'str'>\n",
      "Tipe dari quote: <class 'str'>\n"
     ]
    }
   ],
   "source": [
    "#Biodata Pribadi\n",
    "\n",
    "nama = 'Aditama Yasa'\n",
    "kelas = 'TI22E'\n",
    "jurusan = 'Teknik Informatika'\n",
    "quote = 'Jangan pernah menyerah, lakukan yang terbaik'\n",
    "\n",
    "print(nama, '(' + kelas + ')', ',',  jurusan, ', quote:', quote)\n",
    "print('\\nTipe dari nama:', type(nama))\n",
    "print('Tipe dari kelas:', type(kelas))\n",
    "print('Tipe dari jurusan:', type(jurusan))\n",
    "print('Tipe dari quote:', type(quote))"
   ]
  }
 ],
 "metadata": {
  "kernelspec": {
   "display_name": "Python 3 (ipykernel)",
   "language": "python",
   "name": "python3"
  },
  "language_info": {
   "codemirror_mode": {
    "name": "ipython",
    "version": 3
   },
   "file_extension": ".py",
   "mimetype": "text/x-python",
   "name": "python",
   "nbconvert_exporter": "python",
   "pygments_lexer": "ipython3",
   "version": "3.9.12"
  }
 },
 "nbformat": 4,
 "nbformat_minor": 5
}
