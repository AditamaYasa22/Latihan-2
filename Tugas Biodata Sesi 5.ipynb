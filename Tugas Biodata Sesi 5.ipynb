{
 "cells": [
  {
   "cell_type": "code",
   "execution_count": 8,
   "id": "a215ae1f",
   "metadata": {},
   "outputs": [
    {
     "name": "stdout",
     "output_type": "stream",
     "text": [
      "masukkan nama anda: aditama yasa\n",
      "masukkan nim anda: 20220040086\n",
      "masukkan kelas anda: ti22e\n",
      "masukkan umur anda: 18\n",
      "masukkan alamat anda: BAROS\n",
      "masukkan hobi anda: BERMAIN GITAR\n",
      "perkenalkan saya ADITAMA YASA nim saya 20220040086 dari kelas TI22E saya berumur 18 alamat saya baros hobi saya bermain gitar\n"
     ]
    }
   ],
   "source": [
    "#TUGAS BIODATA SESI 5\n",
    "\n",
    "nama = input('masukkan nama anda: ')\n",
    "nim = input('masukkan nim anda: ')\n",
    "kelas = input('masukkan kelas anda: ')\n",
    "umur = input('masukkan umur anda: ')\n",
    "alamat = input('masukkan alamat anda: ')\n",
    "hobi = input('masukkan hobi anda: ')\n",
    "\n",
    "print('perkenalkan saya', nama.upper(), 'nim saya', nim.upper(), 'dari kelas', kelas.upper(), 'saya berumur', umur.upper(),\n",
    "     'alamat saya', alamat.lower(), 'hobi saya', hobi.lower())"
   ]
  },
  {
   "cell_type": "code",
   "execution_count": 14,
   "id": "bd678629",
   "metadata": {},
   "outputs": [
    {
     "name": "stdout",
     "output_type": "stream",
     "text": [
      "perkenalkan saya ADITAMA YASA asal kelas TI22E saya berumur 18 alamat saya baros hobi saya bermain gitar \n"
     ]
    }
   ],
   "source": [
    "nama = 'Aditama Yasa'\n",
    "kelas = 'TI22E'\n",
    "umur = '18'\n",
    "alamat = 'Baros'\n",
    "hobi = 'Bermain Gitar'\n",
    "\n",
    "print(f'perkenalkan saya {nama.upper()} asal kelas {kelas.upper()} saya berumur {umur.upper()} alamat saya {alamat.lower()} hobi saya {hobi.lower()} ')"
   ]
  }
 ],
 "metadata": {
  "kernelspec": {
   "display_name": "Python 3 (ipykernel)",
   "language": "python",
   "name": "python3"
  },
  "language_info": {
   "codemirror_mode": {
    "name": "ipython",
    "version": 3
   },
   "file_extension": ".py",
   "mimetype": "text/x-python",
   "name": "python",
   "nbconvert_exporter": "python",
   "pygments_lexer": "ipython3",
   "version": "3.9.12"
  }
 },
 "nbformat": 4,
 "nbformat_minor": 5
}
