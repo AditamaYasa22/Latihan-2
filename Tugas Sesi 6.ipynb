{
 "cells": [
  {
   "cell_type": "code",
   "execution_count": 5,
   "id": "bde8028b",
   "metadata": {},
   "outputs": [
    {
     "name": "stdout",
     "output_type": "stream",
     "text": [
      "=== Nilai Kelulusan ===\n",
      "Inputkan nilai: 89\n",
      "Nilai Anda: 89 grade: B predikat: Sangat Memuaskan\n"
     ]
    }
   ],
   "source": [
    "print(\"=== Nilai Kelulusan ===\")\n",
    "nilai = int(input('Inputkan nilai: '))\n",
    "if (nilai >= 90 and nilai < 100):\n",
    "    grade = 'A'\n",
    "    predikat = 'Dengan Pujian'\n",
    "elif (nilai >= 80 and nilai < 89):\n",
    "    grade = 'B'\n",
    "    predikat = 'Sangat Memuaskan'\n",
    "elif (nilai >= 70 and nilai < 79):\n",
    "    grade = 'C'\n",
    "    predikat = 'Memuaskan'\n",
    "elif (nilai >= 60 and nilai < 69):\n",
    "    grade = 'D'\n",
    "    predikat = 'Tidak Memuaskan'\n",
    "elif (nilai >= 0 and nilai < 59):\n",
    "    grade = 'E'\n",
    "    predikat = 'Tidak LULUS'\n",
    "    \n",
    "print('Nilai Anda:', nilai, 'grade:', grade, 'predikat:', predikat)"
   ]
  }
 ],
 "metadata": {
  "kernelspec": {
   "display_name": "Python 3 (ipykernel)",
   "language": "python",
   "name": "python3"
  },
  "language_info": {
   "codemirror_mode": {
    "name": "ipython",
    "version": 3
   },
   "file_extension": ".py",
   "mimetype": "text/x-python",
   "name": "python",
   "nbconvert_exporter": "python",
   "pygments_lexer": "ipython3",
   "version": "3.9.12"
  }
 },
 "nbformat": 4,
 "nbformat_minor": 5
}
