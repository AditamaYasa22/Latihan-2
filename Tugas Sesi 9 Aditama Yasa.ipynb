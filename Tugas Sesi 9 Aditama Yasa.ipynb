{
 "cells": [
  {
   "cell_type": "code",
   "execution_count": 2,
   "id": "10f5b3ec",
   "metadata": {},
   "outputs": [
    {
     "name": "stdout",
     "output_type": "stream",
     "text": [
      "['Honda', 'Yamaha', 'Kawasaki', 'Suzuki']\n"
     ]
    }
   ],
   "source": [
    "motor = ['Honda', 'Yamaha', 'Kawasaki', 'Suzuki']\n",
    "motorsaya = motor.copy()\n",
    "print(motor)"
   ]
  },
  {
   "cell_type": "code",
   "execution_count": 4,
   "id": "28cc28e5",
   "metadata": {},
   "outputs": [
    {
     "name": "stdout",
     "output_type": "stream",
     "text": [
      "1\n"
     ]
    }
   ],
   "source": [
    "sosial = [\"Facebook\", \"Instagram\", \"Twitter\", \"Snapchat\", \"Tiktok\"]\n",
    "ini = sosial.count(\"Twitter\")\n",
    "print(ini)"
   ]
  },
  {
   "cell_type": "code",
   "execution_count": 5,
   "id": "48a68217",
   "metadata": {},
   "outputs": [
    {
     "name": "stdout",
     "output_type": "stream",
     "text": [
      "['asus', 'acer', 'lenovo', 'samsung', 'xiaomi', 'oppo']\n"
     ]
    }
   ],
   "source": [
    "laptop = [\"asus\", \"acer\", \"lenovo\"]\n",
    "handphone = [\"samsung\", \"xiaomi\", \"oppo\"]\n",
    "laptop.extend(handphone)\n",
    "print(laptop)"
   ]
  }
 ],
 "metadata": {
  "kernelspec": {
   "display_name": "Python 3 (ipykernel)",
   "language": "python",
   "name": "python3"
  },
  "language_info": {
   "codemirror_mode": {
    "name": "ipython",
    "version": 3
   },
   "file_extension": ".py",
   "mimetype": "text/x-python",
   "name": "python",
   "nbconvert_exporter": "python",
   "pygments_lexer": "ipython3",
   "version": "3.9.12"
  }
 },
 "nbformat": 4,
 "nbformat_minor": 5
}
